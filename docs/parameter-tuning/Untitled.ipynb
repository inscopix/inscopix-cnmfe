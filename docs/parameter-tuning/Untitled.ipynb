{
 "cells": [
  {
   "cell_type": "code",
   "execution_count": 1,
   "id": "ecb9854d-3ed4-44ae-b3b0-1f127f73a073",
   "metadata": {
    "execution": {
     "iopub.execute_input": "2022-06-24T12:48:31.168054Z",
     "iopub.status.busy": "2022-06-24T12:48:31.167738Z",
     "iopub.status.idle": "2022-06-24T12:48:32.552539Z",
     "shell.execute_reply": "2022-06-24T12:48:32.551755Z",
     "shell.execute_reply.started": "2022-06-24T12:48:31.167980Z"
    },
    "tags": []
   },
   "outputs": [],
   "source": [
    "from isxtools import cnmfe\n",
    "import os"
   ]
  },
  {
   "cell_type": "code",
   "execution_count": 2,
   "id": "6972ed95-1e14-43e2-ac26-5b5132b34a08",
   "metadata": {
    "execution": {
     "iopub.execute_input": "2022-06-24T12:48:38.902021Z",
     "iopub.status.busy": "2022-06-24T12:48:38.901635Z",
     "iopub.status.idle": "2022-06-24T13:00:17.935995Z",
     "shell.execute_reply": "2022-06-24T13:00:17.935240Z",
     "shell.execute_reply.started": "2022-06-24T12:48:38.901970Z"
    },
    "tags": []
   },
   "outputs": [
    {
     "name": "stdout",
     "output_type": "stream",
     "text": [
      "PFC_IM2\n"
     ]
    },
    {
     "name": "stderr",
     "output_type": "stream",
     "text": [
      "100%|███████████████████████████████████████████████████████████████████████████████████████| 240/240 [11:27<00:00,  2.87s/it]\n",
      "/Users/srinivas/opt/anaconda3/envs/isxtools/lib/python3.8/site-packages/bokeh/io/saving.py:126: UserWarning: save() called but no resources were supplied and output_file(...) was never called, defaulting to resources.CDN\n",
      "  warn(\"save() called but no resources were supplied and output_file(...) was never called, defaulting to resources.CDN\")\n"
     ]
    }
   ],
   "source": [
    "all_data = [\"PFC_V3_38\", \"Striatum_IM1\", \"Striatum_IM2\", \"PFC_IM2\"]\n",
    "\n",
    "all_data = [\"PFC_IM2\"]\n",
    "\n",
    "for movie_stub in all_data:\n",
    "\n",
    "    print(movie_stub)\n",
    "\n",
    "    movie_file = os.path.join(\"/Volumes/DATA/isx-sample-datasets\", movie_stub, movie_stub + \"_movie.isxd\")\n",
    "    \n",
    "    data = cnmfe.make_parameter_explorer_widget(movie_file=movie_file,\n",
    "                                         use_existing=True,\n",
    "                                        output_file_name=os.path.join(movie_stub,  \"index.html\")\n",
    "                                        )"
   ]
  },
  {
   "cell_type": "code",
   "execution_count": 11,
   "id": "e3c41eb7-02d1-4b34-a371-1266374aa488",
   "metadata": {
    "execution": {
     "iopub.execute_input": "2022-06-23T16:16:48.744403Z",
     "iopub.status.busy": "2022-06-23T16:16:48.744123Z",
     "iopub.status.idle": "2022-06-23T16:35:30.772884Z",
     "shell.execute_reply": "2022-06-23T16:35:30.771959Z",
     "shell.execute_reply.started": "2022-06-23T16:16:48.744373Z"
    },
    "tags": []
   },
   "outputs": [
    {
     "name": "stderr",
     "output_type": "stream",
     "text": [
      " 66%|█████████████████████████████████████████████████████████▋                             | 212/320 [18:41<09:31,  5.29s/it]\n"
     ]
    },
    {
     "name": "stdout",
     "output_type": "stream",
     "text": [
      "Unexpected exception formatting exception. Falling back to standard exception\n"
     ]
    },
    {
     "name": "stderr",
     "output_type": "stream",
     "text": [
      "Traceback (most recent call last):\n",
      "  File \"/Users/srinivas/opt/anaconda3/envs/isxtools/lib/python3.8/site-packages/IPython/core/interactiveshell.py\", line 3369, in run_code\n",
      "    exec(code_obj, self.user_global_ns, self.user_ns)\n",
      "  File \"/var/folders/j2/rjpg9f8d1gzcymyqgpt_b_7r0000gp/T/ipykernel_52065/1667188452.py\", line 1, in <cell line: 1>\n",
      "    data = cnmfe.make_parameter_explorer_widget(movie_file=movie_file,\n",
      "  File \"/Users/srinivas/code/isxtools/isxtools/cnmfe.py\", line 126, in make_parameter_explorer_widget\n",
      "    run_param_sweep(**cnmfe_parameters)\n",
      "  File \"/Users/srinivas/code/isxtools/isxtools/cnmfe.py\", line 409, in load_precomputed_cnmfe_files\n",
      "  File \"/Applications/Inscopix Data Processing 1.8.1.app/Contents/API/Python/isx/io.py\", line 608, in get_cell_image_data\n",
      "    isx._internal.c_api.isx_cell_set_get_image(self._ptr, index, f_p)\n",
      "  File \"/Applications/Inscopix Data Processing 1.8.1.app/Contents/API/Python/isx/_internal.py\", line 111, in _standard_errcheck\n",
      "    def _standard_errcheck(return_code, func, args=None):\n",
      "KeyboardInterrupt\n",
      "\n",
      "During handling of the above exception, another exception occurred:\n",
      "\n",
      "Traceback (most recent call last):\n",
      "  File \"/Users/srinivas/opt/anaconda3/envs/isxtools/lib/python3.8/site-packages/IPython/core/interactiveshell.py\", line 1982, in showtraceback\n",
      "    stb = self.InteractiveTB.structured_traceback(\n",
      "  File \"/Users/srinivas/opt/anaconda3/envs/isxtools/lib/python3.8/site-packages/IPython/core/ultratb.py\", line 1118, in structured_traceback\n",
      "    return FormattedTB.structured_traceback(\n",
      "  File \"/Users/srinivas/opt/anaconda3/envs/isxtools/lib/python3.8/site-packages/IPython/core/ultratb.py\", line 1012, in structured_traceback\n",
      "    return VerboseTB.structured_traceback(\n",
      "  File \"/Users/srinivas/opt/anaconda3/envs/isxtools/lib/python3.8/site-packages/IPython/core/ultratb.py\", line 865, in structured_traceback\n",
      "    formatted_exception = self.format_exception_as_a_whole(etype, evalue, etb, number_of_lines_of_context,\n",
      "  File \"/Users/srinivas/opt/anaconda3/envs/isxtools/lib/python3.8/site-packages/IPython/core/ultratb.py\", line 818, in format_exception_as_a_whole\n",
      "    frames.append(self.format_record(r))\n",
      "  File \"/Users/srinivas/opt/anaconda3/envs/isxtools/lib/python3.8/site-packages/IPython/core/ultratb.py\", line 736, in format_record\n",
      "    result += ''.join(_format_traceback_lines(frame_info.lines, Colors, self.has_colors, lvals))\n",
      "  File \"/Users/srinivas/opt/anaconda3/envs/isxtools/lib/python3.8/site-packages/stack_data/utils.py\", line 145, in cached_property_wrapper\n",
      "    value = obj.__dict__[self.func.__name__] = self.func(obj)\n",
      "  File \"/Users/srinivas/opt/anaconda3/envs/isxtools/lib/python3.8/site-packages/stack_data/core.py\", line 698, in lines\n",
      "    pieces = self.included_pieces\n",
      "  File \"/Users/srinivas/opt/anaconda3/envs/isxtools/lib/python3.8/site-packages/stack_data/utils.py\", line 145, in cached_property_wrapper\n",
      "    value = obj.__dict__[self.func.__name__] = self.func(obj)\n",
      "  File \"/Users/srinivas/opt/anaconda3/envs/isxtools/lib/python3.8/site-packages/stack_data/core.py\", line 649, in included_pieces\n",
      "    pos = scope_pieces.index(self.executing_piece)\n",
      "  File \"/Users/srinivas/opt/anaconda3/envs/isxtools/lib/python3.8/site-packages/stack_data/utils.py\", line 145, in cached_property_wrapper\n",
      "    value = obj.__dict__[self.func.__name__] = self.func(obj)\n",
      "  File \"/Users/srinivas/opt/anaconda3/envs/isxtools/lib/python3.8/site-packages/stack_data/core.py\", line 628, in executing_piece\n",
      "    return only(\n",
      "  File \"/Users/srinivas/opt/anaconda3/envs/isxtools/lib/python3.8/site-packages/executing/executing.py\", line 164, in only\n",
      "    raise NotOneValueFound('Expected one value, found 0')\n",
      "executing.executing.NotOneValueFound: Expected one value, found 0\n"
     ]
    }
   ],
   "source": []
  },
  {
   "cell_type": "code",
   "execution_count": 6,
   "id": "693a04d2-b129-4b99-bb8d-c98d5def49ea",
   "metadata": {
    "execution": {
     "iopub.execute_input": "2022-06-23T15:41:02.314264Z",
     "iopub.status.busy": "2022-06-23T15:41:02.313950Z",
     "iopub.status.idle": "2022-06-23T15:41:02.463067Z",
     "shell.execute_reply": "2022-06-23T15:41:02.462082Z",
     "shell.execute_reply.started": "2022-06-23T15:41:02.314233Z"
    }
   },
   "outputs": [
    {
     "name": "stdout",
     "output_type": "stream",
     "text": [
      "/Users/srinivas/code/inscopix-cnmfe\n"
     ]
    }
   ],
   "source": [
    "!pwd"
   ]
  },
  {
   "cell_type": "code",
   "execution_count": 7,
   "id": "e41ca955-6b3e-4112-9a95-f365fff708c0",
   "metadata": {
    "execution": {
     "iopub.execute_input": "2022-06-23T15:41:12.769629Z",
     "iopub.status.busy": "2022-06-23T15:41:12.769322Z",
     "iopub.status.idle": "2022-06-23T15:41:12.781558Z",
     "shell.execute_reply": "2022-06-23T15:41:12.780844Z",
     "shell.execute_reply.started": "2022-06-23T15:41:12.769598Z"
    }
   },
   "outputs": [
    {
     "data": {
      "text/plain": [
       "'PFC_IM2.html'"
      ]
     },
     "execution_count": 7,
     "metadata": {},
     "output_type": "execute_result"
    }
   ],
   "source": [
    "movie_stub + \".html\""
   ]
  },
  {
   "cell_type": "code",
   "execution_count": null,
   "id": "a7af3668-4715-4d81-a94f-1899a09c2d54",
   "metadata": {},
   "outputs": [],
   "source": []
  }
 ],
 "metadata": {
  "kernelspec": {
   "display_name": "isxtools",
   "language": "python",
   "name": "isxtools"
  },
  "language_info": {
   "codemirror_mode": {
    "name": "ipython",
    "version": 3
   },
   "file_extension": ".py",
   "mimetype": "text/x-python",
   "name": "python",
   "nbconvert_exporter": "python",
   "pygments_lexer": "ipython3",
   "version": "3.8.13"
  }
 },
 "nbformat": 4,
 "nbformat_minor": 5
}
