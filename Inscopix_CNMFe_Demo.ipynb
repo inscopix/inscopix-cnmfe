{
 "cells": [
  {
   "cell_type": "markdown",
   "metadata": {},
   "source": [
    "# Inscopix CNMFe Demo"
   ]
  },
  {
   "cell_type": "markdown",
   "metadata": {},
   "source": [
    "This notebook demonstrates how to use the Inscopix CNMFe package to extract and visualize the spatial footprints and temporal dynamics of neurons in a 1-photon calcium imaging movie recorded in the mouse dorsal striatum. Before using this notebook, you will need to install the dependencies listed below:\n",
    "\n",
    "`pip install inscopix-cnmfe scikit-image pandas matplotlib`"
   ]
  },
  {
   "cell_type": "markdown",
   "metadata": {},
   "source": [
    "## Import required packages"
   ]
  },
  {
   "cell_type": "code",
   "execution_count": null,
   "metadata": {},
   "outputs": [],
   "source": [
    "import inscopix_cnmfe\n",
    "import pandas as pd\n",
    "from skimage import io\n",
    "import numpy as np\n",
    "import matplotlib.pyplot as plt\n",
    "from matplotlib import cm"
   ]
  },
  {
   "cell_type": "markdown",
   "metadata": {},
   "source": [
    "## Run cnmfe on a sample movie"
   ]
  },
  {
   "cell_type": "code",
   "execution_count": null,
   "metadata": {},
   "outputs": [],
   "source": [
    "inscopix_cnmfe.run_cnmfe(\n",
    "    input_movie_path='test/data/movie.tif', \n",
    "    output_dir_path='output', \n",
    "    output_filetype=0,\n",
    "    average_cell_diameter=7,\n",
    "    min_corr=0.8,\n",
    "    min_pnr=10.0,\n",
    "    gaussian_kernel_size=0,\n",
    "    closing_kernel_size=0,\n",
    "    background_downsampling_factor=2,\n",
    "    ring_size_factor=1.4,\n",
    "    merge_threshold=0.7,\n",
    "    num_threads=4,\n",
    "    processing_mode=2,\n",
    "    patch_size=80,\n",
    "    patch_overlap=20,\n",
    "    trace_output_units=1\n",
    ")"
   ]
  },
  {
   "cell_type": "markdown",
   "metadata": {},
   "source": [
    "## Read and load footprints and traces into memory"
   ]
  },
  {
   "cell_type": "code",
   "execution_count": null,
   "metadata": {},
   "outputs": [],
   "source": [
    "footprints = io.imread('output/movie_footprints.tiff')\n",
    "traces = pd.read_csv('output/movie_traces.csv')"
   ]
  },
  {
   "cell_type": "code",
   "execution_count": null,
   "metadata": {},
   "outputs": [],
   "source": [
    "traces.head()"
   ]
  },
  {
   "cell_type": "markdown",
   "metadata": {},
   "source": [
    "# Visualize the spatial footprint and temporal dynamics of neurons identified using CNMFe"
   ]
  },
  {
   "cell_type": "code",
   "execution_count": null,
   "metadata": {},
   "outputs": [],
   "source": [
    "# number of neurons we wish to visualize\n",
    "num_neurons = 3\n",
    "\n",
    "for neuron_index in range(num_neurons):\n",
    "    neuron_name = traces.columns[neuron_index + 1]\n",
    "    \n",
    "    fig, axes = plt.subplots(1, 2, figsize=(10, 2), gridspec_kw={'width_ratios': [1, 3]})\n",
    "\n",
    "    # spatial footprint\n",
    "    axes[0].imshow(footprints[neuron_index])\n",
    "    axes[0].set_title(\"Spatial footprint\")\n",
    "    axes[0].grid(False)\n",
    "    axes[0].set_xticks([])\n",
    "    axes[0].set_yticks([])\n",
    "\n",
    "    # temporal dynamics\n",
    "    axes[1].set_title(\"Temporal trace\")\n",
    "    axes[1].plot(traces[neuron_name], label='neuron {0}'.format(neuron_name), color='blue')\n",
    "    axes[1].set_ylabel(\"dF over noise\")\n",
    "    axes[1].set_xlabel(\"frame number\")\n",
    "    \n",
    "    plt.suptitle(\n",
    "        'cell {0}:'.format(neuron_name), \n",
    "        x=0.08,\n",
    "        y=0.55,\n",
    "        fontsize=14\n",
    "    )\n",
    "\n",
    "    plt.show()"
   ]
  },
  {
   "cell_type": "markdown",
   "metadata": {},
   "source": [
    "## View all cell footprints in a grid"
   ]
  },
  {
   "cell_type": "code",
   "execution_count": null,
   "metadata": {},
   "outputs": [],
   "source": [
    "def plot_footprints_on_grid(footprints, n_cols = 10):\n",
    "    '''\n",
    "    Plots all footprints on a grid of axes.\n",
    "    User specifies number of desired columns\n",
    "    \n",
    "    Args:\n",
    "        footprints (array):\n",
    "            n_cells x rows x columns array of footprints\n",
    "        n_cols (int, optional):\n",
    "            number of columns in plot grid (defaults to 10).\n",
    "    Returns:\n",
    "        tuple of fig, ax\n",
    "            fig = matplotlib figure handle\n",
    "            ax = array of matplotlib axes handles\n",
    "    '''\n",
    "\n",
    "    n_rows = int(np.ceil(np.shape(footprints)[0]/n_cols))\n",
    "    \n",
    "    fig, ax = plt.subplots(\n",
    "        n_rows, \n",
    "        n_cols, \n",
    "        figsize=(12,1.6*n_rows), \n",
    "        sharex=True, \n",
    "        sharey=True\n",
    "    )\n",
    "    axes = ax.ravel()\n",
    "    \n",
    "    for ii in range(len(ax.flatten())):\n",
    "        try:\n",
    "            axes[ii].imshow(footprints[ii], cmap='gray')\n",
    "            axes[ii].set_title(\"cell {}\".format(ii))\n",
    "            axes[ii].grid(False)\n",
    "            axes[ii].set_xticks([])\n",
    "            axes[ii].set_yticks([])\n",
    "        except IndexError:\n",
    "            # turn off axes for where cell doesn't exist\n",
    "            axes[ii].axis('off')\n",
    "            \n",
    "    fig.tight_layout()\n",
    "    fig.subplots_adjust(wspace=0.025, hspace=0.2, top=0.93)\n",
    "    fig.patch.set_facecolor('white')\n",
    "    fig.suptitle('all spatial footprints', fontweight='bold');"
   ]
  },
  {
   "cell_type": "code",
   "execution_count": null,
   "metadata": {},
   "outputs": [],
   "source": [
    "plot_footprints_on_grid(footprints)"
   ]
  },
  {
   "cell_type": "markdown",
   "metadata": {},
   "source": [
    "## View all cell traces\n",
    "A random color will be assigned to each trace.  \n",
    "Each trace is aligned such that its first point aligns with the tick corresponding to its label. "
   ]
  },
  {
   "cell_type": "code",
   "execution_count": null,
   "metadata": {
    "scrolled": false
   },
   "outputs": [],
   "source": [
    "def plot_all_traces(traces, spacing=5, height_per_row=0.5, colormap='gist_rainbow'):\n",
    "    '''\n",
    "    Plots all traces on a single axis\n",
    "    \n",
    "    Args:\n",
    "        traces (Pandas.DataFrame):\n",
    "            Dataframe of all traces with columns Frame and one column for each cell\n",
    "        spacing (int, optional):\n",
    "            Vertical spacing between traces (defaults to 5).\n",
    "        height_per_row (float, optional)\n",
    "            Vertical height in inches devoted to each cell in the plot (defaults to 0.5).\n",
    "        colormap (str, optional)\n",
    "            Colormap to use. Each row will be a random color from this map (defaults to 'gist_rainbow').\n",
    "    Returns:\n",
    "        tuple of fig, ax\n",
    "            fig = matplotlib figure handle\n",
    "            ax = matplotlib axis handle\n",
    "    '''\n",
    "    \n",
    "    fig, ax = plt.subplots(figsize=(15, height_per_row*footprints.shape[0]))\n",
    "    \n",
    "    cell_ids = [C for C in traces.columns if C.startswith('C')]\n",
    "    cmap_vals = cm.get_cmap(colormap)\n",
    "    np.random.seed(0)\n",
    "    for cell_index, cell_id in enumerate(cell_ids):\n",
    "\n",
    "        ax.plot(\n",
    "            traces['Frame'], \n",
    "            traces[cell_id] + -1*cell_index*spacing - traces[cell_id][0],\n",
    "            linewidth=3,\n",
    "            alpha=0.75,\n",
    "            color= cmap_vals(np.random.rand())\n",
    "        )\n",
    "        \n",
    "    ax.set_ylim(-1*spacing*len(cell_ids)-spacing, 0+spacing*4)\n",
    "    ax.set_yticks(np.arange(-1*spacing*(len(cell_ids)-1), 0+spacing, spacing));\n",
    "    ax.set_yticklabels(cell_ids[::-1]);\n",
    "    ax.set_xlim(traces['Frame'].min(), traces['Frame'].max())\n",
    "    ax.set_xlabel('time (s)')\n",
    "    \n",
    "    for side in ['left', 'top', 'right']:\n",
    "        ax.spines[side].set_color('white')\n",
    "        \n",
    "    fig.patch.set_facecolor('white')\n",
    "    fig.tight_layout()\n",
    "    fig.subplots_adjust(top=0.98)\n",
    "    fig.suptitle('all trace timeseries', fontweight='bold');\n",
    "    return fig, ax\n"
   ]
  },
  {
   "cell_type": "code",
   "execution_count": null,
   "metadata": {
    "scrolled": false
   },
   "outputs": [],
   "source": [
    "plot_all_traces(traces, spacing=5, height_per_row=0.5);"
   ]
  },
  {
   "cell_type": "markdown",
   "metadata": {},
   "source": [
    "## Create a composite image of all ROIS in the field of view\n",
    "The same random color assigned to the trace will be assigned to the ROI"
   ]
  },
  {
   "cell_type": "code",
   "execution_count": null,
   "metadata": {},
   "outputs": [],
   "source": [
    "def plot_composite_fov(footprints, colormap='gist_rainbow'):\n",
    "    '''\n",
    "    Plots all footprints on a single composite field of view.\n",
    "    \n",
    "    Args:\n",
    "        footprints (array):\n",
    "            n_cells x rows x columns array of footprints\n",
    "        colormap (str, optional)\n",
    "            Colormap to use. Each cell will be assigned a random color from this map (defaults to 'gist_rainbow').\n",
    "    Returns:\n",
    "        tuple of fig, ax\n",
    "            fig = matplotlib figure handle\n",
    "            ax = matplotlib axis handle\n",
    "    '''\n",
    "    \n",
    "    fig, ax = plt.subplots(figsize=(15,15))\n",
    "    \n",
    "    # start with an array of zeros\n",
    "    composite_fov = np.zeros((footprints.shape[1], footprints.shape[2], 3))\n",
    "    cmap_vals = cm.get_cmap(colormap)\n",
    "    \n",
    "    np.random.seed(0)\n",
    "    for cell_id in range(footprints.shape[0]):\n",
    "        # select a random color for this cell\n",
    "        color = cmap_vals(np.random.rand())\n",
    "\n",
    "        # assign the color to each of the three channels, normalized by the footprint peak\n",
    "        for color_channel in range(3):\n",
    "            composite_fov[:,:,color_channel] += color[color_channel]*footprints[cell_id]/np.max(footprints[cell_id])\n",
    "\n",
    "    # set all values > 1 (where cells overlap) to 1:\n",
    "    composite_fov[np.where(composite_fov > 1)] = 1\n",
    "\n",
    "    # show the image\n",
    "    ax.imshow(composite_fov)\n",
    "\n",
    "    # annotate each cell with a label centered at its peak\n",
    "    for cell_id in range(footprints.shape[0]):\n",
    "        peak_loc = np.where(footprints[cell_id]==np.max(footprints[cell_id]))\n",
    "        ax.text(\n",
    "            peak_loc[1][0], \n",
    "            peak_loc[0][0], \n",
    "            'cell {}'.format(cell_id), \n",
    "            color='white', \n",
    "            ha='center', \n",
    "            va='center',\n",
    "            fontweight='bold',\n",
    "        )\n",
    "        \n",
    "    fig.tight_layout()\n",
    "    fig.subplots_adjust(top=0.95)\n",
    "    fig.patch.set_facecolor('white')\n",
    "    fig.suptitle('composite field of view', fontweight='bold');\n",
    "    \n",
    "    return fig, ax"
   ]
  },
  {
   "cell_type": "code",
   "execution_count": null,
   "metadata": {},
   "outputs": [],
   "source": [
    "plot_composite_fov(footprints, colormap='gist_rainbow');"
   ]
  },
  {
   "cell_type": "code",
   "execution_count": null,
   "metadata": {},
   "outputs": [],
   "source": []
  }
 ],
 "metadata": {
  "kernelspec": {
   "display_name": "inscopix-cnmfe",
   "language": "python",
   "name": "inscopix-cnmfe"
  },
  "language_info": {
   "codemirror_mode": {
    "name": "ipython",
    "version": 3
   },
   "file_extension": ".py",
   "mimetype": "text/x-python",
   "name": "python",
   "nbconvert_exporter": "python",
   "pygments_lexer": "ipython3",
   "version": "3.9.7"
  }
 },
 "nbformat": 4,
 "nbformat_minor": 4
}
